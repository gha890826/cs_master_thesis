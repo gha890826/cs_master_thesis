{
 "cells": [
  {
   "cell_type": "code",
   "execution_count": 1,
   "metadata": {},
   "outputs": [],
   "source": [
    "import torch\n",
    "import pandas as pd\n",
    "import numpy as np\n",
    "import seaborn as sns\n",
    "import matplotlib.pyplot as plt\n",
    "\n",
    "from pathlib import Path, PurePath"
   ]
  },
  {
   "cell_type": "code",
   "execution_count": null,
   "metadata": {},
   "outputs": [],
   "source": [
    "def plot_logs(log_paths, fields=('class_error', 'loss_bbox_unscaled', 'mAP')):\n",
    "    '''\n",
    "    Function to plot specific fields from training log(s). Plots both training and test results.\n",
    "\n",
    "    :: Inputs - logs = list containing Path objects, each pointing to individual dir with a log file\n",
    "              - fields = which results to plot from each log file - plots both training and test for each field.\n",
    "              - ewm_col = optional, which column to use as the exponential weighted smoothing of the plots\n",
    "              - log_name = optional, name of log file if different than default 'log.txt'.\n",
    "\n",
    "    :: Outputs - matplotlib plots of results in fields, color coded for each log file.\n",
    "               - solid lines are training results, dashed lines are test results.\n",
    "\n",
    "    '''\n",
    "    for log_path in log_paths:\n",
    "        if type(log_path) != Path:\n",
    "            log_path = Path(log_path)\n",
    "        assert log_path.exists() == True\n",
    "        df = pd.read_json(log_path, lines=True)\n",
    "        # print(df)\n",
    "\n",
    "        fig, axs = plt.subplots(ncols=len(fields), figsize=(16, 5))\n",
    "\n",
    "        for ax, field in zip(axs, fields):\n",
    "            if field == 'mAP':\n",
    "                coco_eval = pd.DataFrame(\n",
    "                    np.stack(df.test_coco_eval_bbox.dropna().values)[:, 1]\n",
    "                ).ewm().mean()\n",
    "                ax.plot(y=coco_eval)\n",
    "            else:\n",
    "                ax.set_title(field)\n",
    "                # ax.plot(y=[dfs[f'train_{field}'], dfs[f'test_{field}']])\n",
    "                df.plot('epoch', y=[f'train_{field}', f'test_{field}'], ax=ax)\n",
    "    plt.show()"
   ]
  },
  {
   "cell_type": "code",
   "execution_count": null,
   "metadata": {},
   "outputs": [],
   "source": [
    "fields = ('loss', 'class_error', 'loss_giou', 'loss_ce')\n",
    "# fields = ('loss', 'class_error')\n",
    "\n",
    "log_paths = [r\"logs/MEDUSA-resnet50-batch-4-epoch-100_A13_fold1/log.txt\",\n",
    "             r\"logs/MEDUSA-resnet50-batch-4-epoch-100_A13_fold2/log.txt\",\n",
    "             r\"logs/MEDUSA-resnet50-batch-4-epoch-100_A13_fold3/log.txt\",\n",
    "             r\"logs/MEDUSA-resnet50-batch-4-epoch-100_A13_fold4/log.txt\",\n",
    "             r\"logs/MEDUSA-resnet50-batch-4-epoch-100_A13_fold5/log.txt\"]\n",
    "plot_logs(log_paths, fields)"
   ]
  }
 ],
 "metadata": {
  "kernelspec": {
   "display_name": "medusa",
   "language": "python",
   "name": "python3"
  },
  "language_info": {
   "codemirror_mode": {
    "name": "ipython",
    "version": 3
   },
   "file_extension": ".py",
   "mimetype": "text/x-python",
   "name": "python",
   "nbconvert_exporter": "python",
   "pygments_lexer": "ipython3",
   "version": "3.11.9"
  }
 },
 "nbformat": 4,
 "nbformat_minor": 2
}
