{
 "cells": [
  {
   "cell_type": "code",
   "execution_count": 13,
   "metadata": {},
   "outputs": [],
   "source": [
    "from pathlib import Path\n",
    "import os\n",
    "import subprocess"
   ]
  },
  {
   "cell_type": "code",
   "execution_count": 14,
   "metadata": {},
   "outputs": [],
   "source": [
    "fold_dirs = [r\"E:\\datasets\\penghu_vitality\\coco_type\\vitality_1.0_fold1\",\n",
    "             r\"E:\\datasets\\penghu_vitality\\coco_type\\vitality_1.0_fold2\",\n",
    "             r\"E:\\datasets\\penghu_vitality\\coco_type\\vitality_1.0_fold3\",\n",
    "             r\"E:\\datasets\\penghu_vitality\\coco_type\\vitality_1.0_fold4\",\n",
    "             r\"E:\\datasets\\penghu_vitality\\coco_type\\vitality_1.0_fold5\"]\n",
    "epoch_num=100"
   ]
  },
  {
   "cell_type": "code",
   "execution_count": 15,
   "metadata": {},
   "outputs": [
    {
     "name": "stdout",
     "output_type": "stream",
     "text": [
      "e:\\ck\\master\\mhi_medusa\n",
      "Fold: E:\\datasets\\penghu_vitality\\coco_type\\vitality_1.0_fold1\n",
      "subset_index\\train_1.0\n",
      "subset_index\\val_1.0\n",
      "python main.py --pretrain checkpoints/medusa_800x1333.pth --batch_size 4 --num_workers 2 --epochs 100 --lr_drop 100 --print_freq 200 --path E:\\datasets\\penghu_vitality\\coco_type\\vitality_1.0_fold1 --output output --dataset_file vitality\n",
      "Fold: E:\\datasets\\penghu_vitality\\coco_type\\vitality_1.0_fold2\n",
      "python main.py --pretrain checkpoints/medusa_800x1333.pth --batch_size 4 --num_workers 2 --epochs 100 --lr_drop 100 --print_freq 200 --path E:\\datasets\\penghu_vitality\\coco_type\\vitality_1.0_fold2 --output output --dataset_file vitality\n",
      "Fold: E:\\datasets\\penghu_vitality\\coco_type\\vitality_1.0_fold3\n",
      "python main.py --pretrain checkpoints/medusa_800x1333.pth --batch_size 4 --num_workers 2 --epochs 100 --lr_drop 100 --print_freq 200 --path E:\\datasets\\penghu_vitality\\coco_type\\vitality_1.0_fold3 --output output --dataset_file vitality\n",
      "Fold: E:\\datasets\\penghu_vitality\\coco_type\\vitality_1.0_fold4\n",
      "python main.py --pretrain checkpoints/medusa_800x1333.pth --batch_size 4 --num_workers 2 --epochs 100 --lr_drop 100 --print_freq 200 --path E:\\datasets\\penghu_vitality\\coco_type\\vitality_1.0_fold4 --output output --dataset_file vitality\n",
      "Fold: E:\\datasets\\penghu_vitality\\coco_type\\vitality_1.0_fold5\n",
      "python main.py --pretrain checkpoints/medusa_800x1333.pth --batch_size 4 --num_workers 2 --epochs 100 --lr_drop 100 --print_freq 200 --path E:\\datasets\\penghu_vitality\\coco_type\\vitality_1.0_fold5 --output output --dataset_file vitality\n"
     ]
    }
   ],
   "source": [
    "%cd E:\\ck\\master\\mhi_medusa\n",
    "for fold_dir in fold_dirs[:]:\n",
    "    print(f\"Fold: {fold_dir}\")\n",
    "    for i in Path(r\"subset_index\").iterdir():\n",
    "        print(i)\n",
    "        i.unlink()\n",
    "    cmd = rf\"python main.py --pretrain checkpoints/medusa_800x1333.pth --batch_size 4 --num_workers 2 --epochs {epoch_num} --lr_drop 100 --print_freq 200 --path {fold_dir} --output output --dataset_file vitality\"\n",
    "    print(cmd)\n",
    "    # os.system(cmd)\n",
    "    # log_dir=Path(r\"logs/MEDUSA-resnet50-batch-4-epoch-\"+str(epoch_num))\n",
    "    # target = Path(\"logs/\"+log_dir.stem +\"_A13_\"+ fold_dir[-5:])\n",
    "    # print(target)\n",
    "    # log_dir.rename(target)"
   ]
  }
 ],
 "metadata": {
  "kernelspec": {
   "display_name": "medusa",
   "language": "python",
   "name": "python3"
  },
  "language_info": {
   "codemirror_mode": {
    "name": "ipython",
    "version": 3
   },
   "file_extension": ".py",
   "mimetype": "text/x-python",
   "name": "python",
   "nbconvert_exporter": "python",
   "pygments_lexer": "ipython3",
   "version": "3.11.9"
  }
 },
 "nbformat": 4,
 "nbformat_minor": 2
}
